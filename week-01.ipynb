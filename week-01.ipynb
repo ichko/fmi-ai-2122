{
 "cells": [
  {
   "cell_type": "code",
   "execution_count": 5,
   "metadata": {},
   "outputs": [],
   "source": [
    "import os"
   ]
  },
  {
   "cell_type": "code",
   "execution_count": 10,
   "metadata": {},
   "outputs": [
    {
     "data": {
      "text/plain": [
       "['.temp',\n",
       " 'src',\n",
       " '.env',\n",
       " 'setup.sh',\n",
       " '.models',\n",
       " '.gitignore',\n",
       " 'README.md',\n",
       " 'assets',\n",
       " '.vscode',\n",
       " 'environment.yml',\n",
       " '.data']"
      ]
     },
     "execution_count": 10,
     "metadata": {},
     "output_type": "execute_result"
    }
   ],
   "source": [
    "root = '/home/izpc/workspace/kaggle/arc'\n",
    "os.listdir(root)"
   ]
  },
  {
   "cell_type": "code",
   "execution_count": 37,
   "metadata": {},
   "outputs": [],
   "source": [
    "def dfs(path, depth, search_text):\n",
    "    parent_path, current_name = os.path.split(path)\n",
    "    \n",
    "    if search_text == current_name:\n",
    "        current_name = f'[{current_name}]'\n",
    "\n",
    "    indentation = ' ' * depth * 4\n",
    "    print(f'| {indentation}{current_name}')\n",
    "\n",
    "    if not os.path.isdir(path): return\n",
    "\n",
    "    children_names = os.listdir(path)\n",
    "    for name in children_names:\n",
    "        child_path = os.path.join(path, name)\n",
    "\n",
    "        if not name.startswith('.'):\n",
    "            dfs(child_path, depth=depth + 1, search_text=search_text)"
   ]
  },
  {
   "cell_type": "code",
   "execution_count": 39,
   "metadata": {},
   "outputs": [
    {
     "name": "stdout",
     "output_type": "stream",
     "text": [
      "| arc\n",
      "|     src\n",
      "|         logger.py\n",
      "|         metrics.py\n",
      "|         main.py\n",
      "|         __pycache__\n",
      "|             logging.cpython-37.pyc\n",
      "|             torch_utils.cpython-37.pyc\n",
      "|             config.cpython-37.pyc\n",
      "|             vis.cpython-37.pyc\n",
      "|             nn_utils.cpython-37.pyc\n",
      "|             metrics.cpython-37.pyc\n",
      "|             loggers.cpython-37.pyc\n",
      "|             logger.cpython-37.pyc\n",
      "|             main.cpython-37.pyc\n",
      "|             pipeline.cpython-37.pyc\n",
      "|             preprocess.cpython-37.pyc\n",
      "|             models.cpython-37.pyc\n",
      "|             deferred.cpython-37.pyc\n",
      "|             utils.cpython-37.pyc\n",
      "|             data.cpython-37.pyc\n",
      "|             __init__.cpython-37.pyc\n",
      "|         [nn_utils.py]\n",
      "|         config.py\n",
      "|         vis.py\n",
      "|         models\n",
      "|             conv_programmable_nca.py\n",
      "|             __pycache__\n",
      "|                 hyper_recurrent_cnn.cpython-37.pyc\n",
      "|                 soft_kernel_hyper_conv.cpython-37.pyc\n",
      "|                 soft_compute_nca.cpython-37.pyc\n",
      "|                 soft_picking_hyper_conv.cpython-37.pyc\n",
      "|                 hyper_conv.cpython-37.pyc\n",
      "|                 soft_layer_hyper_conv.cpython-37.pyc\n",
      "|                 conv_programmable_nca.cpython-37.pyc\n",
      "|                 hyper_nca.cpython-37.pyc\n",
      "|                 soft_pick_hyper_conv.cpython-37.pyc\n",
      "|                 __init__.cpython-37.pyc\n",
      "|                 hyper_recurrent_util_cnn.cpython-37.pyc\n",
      "|             hyper_nca.py\n",
      "|         pipeline.py\n",
      "|         data\n",
      "|             __init__.py\n",
      "|             __pycache__\n",
      "|                 load.cpython-37.pyc\n",
      "|                 preprocess.cpython-37.pyc\n",
      "|                 postprocess.cpython-37.pyc\n",
      "|                 __init__.cpython-37.pyc\n",
      "|                 arc.cpython-37.pyc\n",
      "|             load.py\n",
      "|             postprocess.py\n",
      "|             preprocess.py\n",
      "|         deferred.py\n",
      "|         utils.py\n",
      "|     setup.sh\n",
      "|     README.md\n",
      "|     assets\n",
      "|         hyper-nca-arc-soft-addressable-computation.svg\n",
      "|         solution-example-2.gif\n",
      "|         example-solved-2.png\n",
      "|         solution-example-1.gif\n",
      "|         hyper-nca-arc-conv-params.svg\n",
      "|         hyper-nca-arc-the-big-picture.svg\n",
      "|         example-solved-1.png\n",
      "|         hyper-nca-arc-detailed.svg\n",
      "|     environment.yml\n"
     ]
    }
   ],
   "source": [
    "dfs(root, depth=0, search_text='nn_utils.py')"
   ]
  },
  {
   "cell_type": "code",
   "execution_count": null,
   "metadata": {},
   "outputs": [],
   "source": []
  },
  {
   "cell_type": "code",
   "execution_count": null,
   "metadata": {},
   "outputs": [],
   "source": []
  },
  {
   "cell_type": "code",
   "execution_count": null,
   "metadata": {},
   "outputs": [],
   "source": []
  },
  {
   "cell_type": "code",
   "execution_count": null,
   "metadata": {},
   "outputs": [],
   "source": []
  },
  {
   "cell_type": "code",
   "execution_count": null,
   "metadata": {},
   "outputs": [],
   "source": []
  }
 ],
 "metadata": {
  "kernelspec": {
   "display_name": "Python 3.7.5 64-bit ('base': conda)",
   "language": "python",
   "name": "python375jvsc74a57bd0452299187834a76a851c96086b06e6e88a6c67b7b40d5b0a891daaf3e641b791"
  },
  "language_info": {
   "codemirror_mode": {
    "name": "ipython",
    "version": 3
   },
   "file_extension": ".py",
   "mimetype": "text/x-python",
   "name": "python",
   "nbconvert_exporter": "python",
   "pygments_lexer": "ipython3",
   "version": "3.7.5"
  },
  "toc": {
   "base_numbering": 1,
   "nav_menu": {},
   "number_sections": true,
   "sideBar": true,
   "skip_h1_title": false,
   "title_cell": "Table of Contents",
   "title_sidebar": "Contents",
   "toc_cell": false,
   "toc_position": {},
   "toc_section_display": true,
   "toc_window_display": false
  }
 },
 "nbformat": 4,
 "nbformat_minor": 2
}
