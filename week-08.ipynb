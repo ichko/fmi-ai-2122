{
 "cells": [
  {
   "cell_type": "markdown",
   "id": "5f8f3f48",
   "metadata": {},
   "source": [
    "# Linear Regression"
   ]
  },
  {
   "cell_type": "code",
   "execution_count": 1,
   "id": "695d010a",
   "metadata": {},
   "outputs": [],
   "source": [
    "import numpy as np\n",
    "import matplotlib.pyplot as plt\n",
    "from tqdm.auto import tqdm\n",
    "import time"
   ]
  },
  {
   "cell_type": "code",
   "execution_count": 2,
   "id": "57a5c37b",
   "metadata": {},
   "outputs": [],
   "source": [
    "X = np.linspace(0, 1, 50)\n",
    "Y = np.random.rand(50) + X * 2.4 + 3"
   ]
  },
  {
   "cell_type": "code",
   "execution_count": 3,
   "id": "67310544",
   "metadata": {},
   "outputs": [
    {
     "data": {
      "text/plain": [
       "<matplotlib.collections.PathCollection at 0x7fef78712370>"
      ]
     },
     "execution_count": 3,
     "metadata": {},
     "output_type": "execute_result"
    },
    {
     "data": {
      "image/png": "[encoded data removed]",
      "text/plain": [
       "<Figure size 432x288 with 1 Axes>"
      ]
     },
     "metadata": {
      "needs_background": "light"
     },
     "output_type": "display_data"
    }
   ],
   "source": [
    "plt.scatter(X, Y)"
   ]
  },
  {
   "cell_type": "code",
   "execution_count": 4,
   "id": "3e351e3a",
   "metadata": {},
   "outputs": [],
   "source": [
    "SEED = 504"
   ]
  },
  {
   "cell_type": "code",
   "execution_count": 5,
   "id": "d648a516",
   "metadata": {},
   "outputs": [
    {
     "data": {
      "text/plain": [
       "(-5.513803307109124, 10.520078236890855)"
      ]
     },
     "execution_count": 5,
     "metadata": {},
     "output_type": "execute_result"
    }
   ],
   "source": [
    "np.random.seed(SEED)\n",
    "W = np.random.randn(1)[0] * 10\n",
    "b = np.random.randn(1)[0] * 10\n",
    "W, b"
   ]
  },
  {
   "cell_type": "code",
   "execution_count": 6,
   "id": "e2fa8be7",
   "metadata": {},
   "outputs": [],
   "source": [
    "def hypothesis(X):\n",
    "    return X * W + b"
   ]
  },
  {
   "cell_type": "code",
   "execution_count": 7,
   "id": "0f2c1fa2",
   "metadata": {},
   "outputs": [
    {
     "data": {
      "text/plain": [
       "[<matplotlib.lines.Line2D at 0x7fef7661cc70>]"
      ]
     },
     "execution_count": 7,
     "metadata": {},
     "output_type": "execute_result"
    },
    {
     "data": {
      "image/png": "[encoded data removed]",
      "text/plain": [
       "<Figure size 432x288 with 1 Axes>"
      ]
     },
     "metadata": {
      "needs_background": "light"
     },
     "output_type": "display_data"
    }
   ],
   "source": [
    "plt.scatter(X, Y)\n",
    "plt.plot([0, 1], hypothesis(np.array([0, 1])), color='r')"
   ]
  },
  {
   "cell_type": "code",
   "execution_count": 8,
   "id": "f60c3c14",
   "metadata": {},
   "outputs": [],
   "source": [
    "def loss():\n",
    "    return np.mean((hypothesis(X) - Y) ** 2)"
   ]
  },
  {
   "cell_type": "code",
   "execution_count": 9,
   "id": "eac185c1",
   "metadata": {},
   "outputs": [
    {
     "data": {
      "text/plain": [
       "14.760049812276089"
      ]
     },
     "execution_count": 9,
     "metadata": {},
     "output_type": "execute_result"
    }
   ],
   "source": [
    "loss()"
   ]
  },
  {
   "cell_type": "code",
   "execution_count": 10,
   "id": "37b96039",
   "metadata": {},
   "outputs": [],
   "source": [
    "def dW():\n",
    "    return np.mean(2 * (hypothesis(X) - Y) * X)\n",
    "\n",
    "def db():\n",
    "    return np.mean(2 * (hypothesis(X) - Y))"
   ]
  },
  {
   "cell_type": "code",
   "execution_count": 11,
   "id": "ee826f32",
   "metadata": {},
   "outputs": [
    {
     "data": {
      "text/plain": [
       "(1.75516972944994, 6.180705298073997)"
      ]
     },
     "execution_count": 11,
     "metadata": {},
     "output_type": "execute_result"
    }
   ],
   "source": [
    "dW(), db()"
   ]
  },
  {
   "cell_type": "code",
   "execution_count": 12,
   "id": "e8bba23a",
   "metadata": {},
   "outputs": [
    {
     "data": {
      "application/vnd.jupyter.widget-view+json": {
       "model_id": "7bbb86b901a3445cb97686929efbf5d3",
       "version_major": 2,
       "version_minor": 0
      },
      "text/plain": [
       "  0%|          | 0/1000 [00:00<?, ?it/s]"
      ]
     },
     "metadata": {},
     "output_type": "display_data"
    }
   ],
   "source": [
    "np.random.seed(SEED)\n",
    "W = np.random.randn(1)[0] * 10\n",
    "b = np.random.randn(1)[0] * 10\n",
    "\n",
    "lr = 0.05\n",
    "losses = []\n",
    "\n",
    "# Training\n",
    "for i in tqdm(range(1000)):\n",
    "    W = W - dW() * lr\n",
    "    b = b - db() * lr\n",
    "    l = loss()\n",
    "    losses.append(l)"
   ]
  },
  {
   "cell_type": "code",
   "execution_count": 13,
   "id": "14088674",
   "metadata": {},
   "outputs": [
    {
     "data": {
      "text/plain": [
       "Text(0.5, 1.0, 'Loss curve')"
      ]
     },
     "execution_count": 13,
     "metadata": {},
     "output_type": "execute_result"
    },
    {
     "data": {
      "image/png": "[encoded data removed]",
      "text/plain": [
       "<Figure size 432x288 with 1 Axes>"
      ]
     },
     "metadata": {
      "needs_background": "light"
     },
     "output_type": "display_data"
    }
   ],
   "source": [
    "plt.plot(losses)\n",
    "plt.title('Loss curve')"
   ]
  },
  {
   "cell_type": "code",
   "execution_count": 14,
   "id": "0d00f785",
   "metadata": {},
   "outputs": [
    {
     "data": {
      "text/plain": [
       "[<matplotlib.lines.Line2D at 0x7fef75cd6a00>]"
      ]
     },
     "execution_count": 14,
     "metadata": {},
     "output_type": "execute_result"
    },
    {
     "data": {
      "image/png": "[encoded data removed]",
      "text/plain": [
       "<Figure size 432x288 with 1 Axes>"
      ]
     },
     "metadata": {
      "needs_background": "light"
     },
     "output_type": "display_data"
    }
   ],
   "source": [
    "plt.scatter(X, Y)\n",
    "plt.plot([0, 1], hypothesis(np.array([0, 1])), color='r')"
   ]
  },
  {
   "cell_type": "markdown",
   "id": "c2453301",
   "metadata": {},
   "source": [
    "**Live training**"
   ]
  },
  {
   "cell_type": "code",
   "execution_count": 15,
   "id": "c10de745",
   "metadata": {},
   "outputs": [],
   "source": [
    "from ipywidgets import Output, HBox\n",
    "from IPython.display import display, clear_output"
   ]
  },
  {
   "cell_type": "code",
   "execution_count": 16,
   "id": "ab110038",
   "metadata": {},
   "outputs": [],
   "source": [
    "scater_out = Output()\n",
    "loss_out = Output()\n",
    "all_outs = HBox([scater_out, loss_out])"
   ]
  },
  {
   "cell_type": "code",
   "execution_count": 17,
   "id": "89bc5a4b",
   "metadata": {
    "scrolled": false
   },
   "outputs": [
    {
     "data": {
      "application/vnd.jupyter.widget-view+json": {
       "model_id": "562883091df143e595203e6567570432",
       "version_major": 2,
       "version_minor": 0
      },
      "text/plain": [
       "HBox(children=(Output(), Output()))"
      ]
     },
     "metadata": {},
     "output_type": "display_data"
    },
    {
     "data": {
      "application/vnd.jupyter.widget-view+json": {
       "model_id": "f5de1557194546c6ba7790f066f7000e",
       "version_major": 2,
       "version_minor": 0
      },
      "text/plain": [
       "  0%|          | 0/50 [00:00<?, ?it/s]"
      ]
     },
     "metadata": {},
     "output_type": "display_data"
    }
   ],
   "source": [
    "np.random.seed(SEED)\n",
    "W = np.random.randn(1)[0] * 10\n",
    "b = np.random.randn(1)[0] * 10\n",
    "\n",
    "lr = 0.5\n",
    "losses = []\n",
    "\n",
    "display(all_outs)\n",
    "\n",
    "for i in tqdm(range(50)):\n",
    "    W = W - dW() * lr\n",
    "    b = b - db() * lr\n",
    "    l = loss()\n",
    "    losses.append(l)\n",
    "#     time.sleep(0.001)\n",
    "\n",
    "    with scater_out:\n",
    "        clear_output(wait=True)\n",
    "        plt.scatter(X, Y)\n",
    "        plt.plot([0, 1], hypothesis(np.array([0, 1])), color='r')\n",
    "        plt.title('Hypothesis')\n",
    "        plt.show(block=False)\n",
    "        \n",
    "    with loss_out:\n",
    "        clear_output(wait=True)\n",
    "        plt.plot(losses)\n",
    "        plt.title('Loss curve')\n",
    "        plt.show(block=False)"
   ]
  },
  {
   "cell_type": "code",
   "execution_count": null,
   "id": "b8e556c0",
   "metadata": {},
   "outputs": [],
   "source": []
  },
  {
   "cell_type": "code",
   "execution_count": null,
   "id": "bba327b7",
   "metadata": {},
   "outputs": [],
   "source": []
  },
  {
   "cell_type": "code",
   "execution_count": null,
   "id": "00617deb",
   "metadata": {},
   "outputs": [],
   "source": []
  }
 ],
 "metadata": {
  "kernelspec": {
   "display_name": "Python 3 (ipykernel)",
   "language": "python",
   "name": "python3"
  },
  "language_info": {
   "codemirror_mode": {
    "name": "ipython",
    "version": 3
   },
   "file_extension": ".py",
   "mimetype": "text/x-python",
   "name": "python",
   "nbconvert_exporter": "python",
   "pygments_lexer": "ipython3",
   "version": "3.9.7"
  }
 },
 "nbformat": 4,
 "nbformat_minor": 5
}
