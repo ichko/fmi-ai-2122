{
 "cells": [
  {
   "cell_type": "markdown",
   "id": "5f8f3f48",
   "metadata": {},
   "source": [
    "# Linear Regression"
   ]
  },
  {
   "cell_type": "code",
   "execution_count": 1,
   "id": "695d010a",
   "metadata": {},
   "outputs": [],
   "source": [
    "import numpy as np\n",
    "import matplotlib.pyplot as plt\n",
    "from tqdm.auto import tqdm\n",
    "import time"
   ]
  },
  {
   "cell_type": "code",
   "execution_count": 2,
   "id": "0f34af10",
   "metadata": {},
   "outputs": [],
   "source": [
    "X = np.linspace(0, 1, 50)\n",
    "Y = np.random.rand(50) + X * 2.4 + 3"
   ]
  },
  {
   "cell_type": "code",
   "execution_count": 3,
   "id": "f316b962",
   "metadata": {},
   "outputs": [
    {
     "data": {
      "text/plain": [
       "<matplotlib.collections.PathCollection at 0x7fa4d4025310>"
      ]
     },
     "execution_count": 3,
     "metadata": {},
     "output_type": "execute_result"
    },
    {
     "data": {
      "image/png": "[encoded data removed]",
      "text/plain": [
       "<Figure size 432x288 with 1 Axes>"
      ]
     },
     "metadata": {
      "needs_background": "light"
     },
     "output_type": "display_data"
    }
   ],
   "source": [
    "plt.scatter(X, Y)"
   ]
  },
  {
   "cell_type": "code",
   "execution_count": 66,
   "id": "791999e3",
   "metadata": {},
   "outputs": [],
   "source": [
    "SEED = 504"
   ]
  },
  {
   "cell_type": "code",
   "execution_count": 67,
   "id": "598cb5a4",
   "metadata": {},
   "outputs": [
    {
     "data": {
      "text/plain": [
       "(-5.513803307109124, 10.520078236890855)"
      ]
     },
     "execution_count": 67,
     "metadata": {},
     "output_type": "execute_result"
    }
   ],
   "source": [
    "np.random.seed(SEED)\n",
    "W = np.random.randn(1)[0] * 10\n",
    "b = np.random.randn(1)[0] * 10\n",
    "W, b"
   ]
  },
  {
   "cell_type": "code",
   "execution_count": 68,
   "id": "2a2306bc",
   "metadata": {},
   "outputs": [],
   "source": [
    "def hypothesis(X):\n",
    "    return X * W + b"
   ]
  },
  {
   "cell_type": "code",
   "execution_count": 69,
   "id": "0f2c1fa2",
   "metadata": {},
   "outputs": [
    {
     "data": {
      "text/plain": [
       "[<matplotlib.lines.Line2D at 0x7fa4d1304d90>]"
      ]
     },
     "execution_count": 69,
     "metadata": {},
     "output_type": "execute_result"
    },
    {
     "data": {
      "image/png": "[encoded data removed]",
      "text/plain": [
       "<Figure size 432x288 with 1 Axes>"
      ]
     },
     "metadata": {
      "needs_background": "light"
     },
     "output_type": "display_data"
    }
   ],
   "source": [
    "plt.scatter(X, Y)\n",
    "plt.plot([0, 1], hypothesis(np.array([0, 1])), color='r')"
   ]
  },
  {
   "cell_type": "code",
   "execution_count": 70,
   "id": "f60c3c14",
   "metadata": {},
   "outputs": [],
   "source": [
    "def loss():\n",
    "    return np.mean((hypothesis(X) - Y) ** 2)"
   ]
  },
  {
   "cell_type": "code",
   "execution_count": 71,
   "id": "eac185c1",
   "metadata": {},
   "outputs": [
    {
     "data": {
      "text/plain": [
       "15.14714708349868"
      ]
     },
     "execution_count": 71,
     "metadata": {},
     "output_type": "execute_result"
    }
   ],
   "source": [
    "loss()"
   ]
  },
  {
   "cell_type": "code",
   "execution_count": 72,
   "id": "37b96039",
   "metadata": {},
   "outputs": [],
   "source": [
    "def dW():\n",
    "    return np.mean(2 * (hypothesis(X) - Y) * X)\n",
    "\n",
    "def db():\n",
    "    return np.mean(2 * (hypothesis(X) - Y))"
   ]
  },
  {
   "cell_type": "code",
   "execution_count": 73,
   "id": "ee826f32",
   "metadata": {},
   "outputs": [
    {
     "data": {
      "text/plain": [
       "(1.7736161444693082, 6.254883479863274)"
      ]
     },
     "execution_count": 73,
     "metadata": {},
     "output_type": "execute_result"
    }
   ],
   "source": [
    "dW(), db()"
   ]
  },
  {
   "cell_type": "code",
   "execution_count": 74,
   "id": "e8bba23a",
   "metadata": {},
   "outputs": [
    {
     "data": {
      "application/vnd.jupyter.widget-view+json": {
       "model_id": "d966dbb0b4da4c68bd8fe76711054ea2",
       "version_major": 2,
       "version_minor": 0
      },
      "text/plain": [
       "  0%|          | 0/1000 [00:00<?, ?it/s]"
      ]
     },
     "metadata": {},
     "output_type": "display_data"
    }
   ],
   "source": [
    "np.random.seed(SEED)\n",
    "W = np.random.randn(1)[0] * 10\n",
    "b = np.random.randn(1)[0] * 10\n",
    "\n",
    "lr = 0.05\n",
    "losses = []\n",
    "\n",
    "# Training\n",
    "for i in tqdm(range(1000)):\n",
    "    W = W - dW() * lr\n",
    "    b = b - db() * lr\n",
    "    l = loss()\n",
    "    losses.append(l)"
   ]
  },
  {
   "cell_type": "code",
   "execution_count": 75,
   "id": "14088674",
   "metadata": {},
   "outputs": [
    {
     "data": {
      "text/plain": [
       "Text(0.5, 1.0, 'Loss curve')"
      ]
     },
     "execution_count": 75,
     "metadata": {},
     "output_type": "execute_result"
    },
    {
     "data": {
      "image/png": "[encoded data removed]",
      "text/plain": [
       "<Figure size 432x288 with 1 Axes>"
      ]
     },
     "metadata": {
      "needs_background": "light"
     },
     "output_type": "display_data"
    }
   ],
   "source": [
    "plt.plot(losses)\n",
    "plt.title('Loss curve')"
   ]
  },
  {
   "cell_type": "code",
   "execution_count": 76,
   "id": "0d00f785",
   "metadata": {},
   "outputs": [
    {
     "data": {
      "text/plain": [
       "[<matplotlib.lines.Line2D at 0x7fa4d1488fa0>]"
      ]
     },
     "execution_count": 76,
     "metadata": {},
     "output_type": "execute_result"
    },
    {
     "data": {
      "image/png": "[encoded data removed]",
      "text/plain": [
       "<Figure size 432x288 with 1 Axes>"
      ]
     },
     "metadata": {
      "needs_background": "light"
     },
     "output_type": "display_data"
    }
   ],
   "source": [
    "plt.scatter(X, Y)\n",
    "plt.plot([0, 1], hypothesis(np.array([0, 1])), color='r')"
   ]
  },
  {
   "cell_type": "markdown",
   "id": "7ba99715",
   "metadata": {},
   "source": [
    "**Live training**"
   ]
  },
  {
   "cell_type": "code",
   "execution_count": 77,
   "id": "d8f074a1",
   "metadata": {},
   "outputs": [],
   "source": [
    "from ipywidgets import Output, HBox\n",
    "from IPython.display import display, clear_output"
   ]
  },
  {
   "cell_type": "code",
   "execution_count": 78,
   "id": "eff26d1e",
   "metadata": {},
   "outputs": [],
   "source": [
    "scater_out = Output()\n",
    "loss_out = Output()\n",
    "all_outs = HBox([scater_out, loss_out])"
   ]
  },
  {
   "cell_type": "code",
   "execution_count": 81,
   "id": "89bc5a4b",
   "metadata": {
    "scrolled": false
   },
   "outputs": [
    {
     "data": {
      "application/vnd.jupyter.widget-view+json": {
       "model_id": "fcaff6ac69674265b37ed067ec20d66b",
       "version_major": 2,
       "version_minor": 0
      },
      "text/plain": [
       "HBox(children=(Output(outputs=({'output_type': 'display_data', 'data': {'text/plain': '<Figure size 432x288 wi…"
      ]
     },
     "metadata": {},
     "output_type": "display_data"
    },
    {
     "data": {
      "application/vnd.jupyter.widget-view+json": {
       "model_id": "e67c8b06625f4932b250e8156941e18c",
       "version_major": 2,
       "version_minor": 0
      },
      "text/plain": [
       "  0%|          | 0/50 [00:00<?, ?it/s]"
      ]
     },
     "metadata": {},
     "output_type": "display_data"
    }
   ],
   "source": [
    "np.random.seed(SEED)\n",
    "W = np.random.randn(1)[0] * 10\n",
    "b = np.random.randn(1)[0] * 10\n",
    "\n",
    "lr = 0.5\n",
    "losses = []\n",
    "\n",
    "display(all_outs)\n",
    "\n",
    "for i in tqdm(range(50)):\n",
    "    W = W - dW() * lr\n",
    "    b = b - db() * lr\n",
    "    l = loss()\n",
    "    losses.append(l)\n",
    "#     time.sleep(0.001)\n",
    "\n",
    "    with scater_out:\n",
    "        clear_output(wait=True)\n",
    "        plt.scatter(X, Y)\n",
    "        plt.plot([0, 1], hypothesis(np.array([0, 1])), color='r')\n",
    "        plt.title('Hypothesis')\n",
    "        plt.show(block=False)\n",
    "        \n",
    "    with loss_out:\n",
    "        clear_output(wait=True)\n",
    "        plt.plot(losses)\n",
    "        plt.title('Loss curve')\n",
    "        plt.show(block=False)"
   ]
  },
  {
   "cell_type": "code",
   "execution_count": null,
   "id": "b8e556c0",
   "metadata": {},
   "outputs": [],
   "source": []
  },
  {
   "cell_type": "code",
   "execution_count": null,
   "id": "4cc194a4",
   "metadata": {},
   "outputs": [],
   "source": []
  },
  {
   "cell_type": "code",
   "execution_count": null,
   "id": "ad05c9e4",
   "metadata": {},
   "outputs": [],
   "source": []
  }
 ],
 "metadata": {
  "kernelspec": {
   "display_name": "Python 3 (ipykernel)",
   "language": "python",
   "name": "python3"
  },
  "language_info": {
   "codemirror_mode": {
    "name": "ipython",
    "version": 3
   },
   "file_extension": ".py",
   "mimetype": "text/x-python",
   "name": "python",
   "nbconvert_exporter": "python",
   "pygments_lexer": "ipython3",
   "version": "3.9.7"
  }
 },
 "nbformat": 4,
 "nbformat_minor": 5
}
