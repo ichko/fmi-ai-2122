{
 "cells": [
  {
   "cell_type": "markdown",
   "metadata": {},
   "source": [
    "# Week 4: Constraint satisfaction problems\n",
    "\n",
    "Lets code a sudoku solver."
   ]
  },
  {
   "cell_type": "markdown",
   "metadata": {},
   "source": [
    "Discuss organization around HWs!!!!"
   ]
  },
  {
   "cell_type": "code",
   "execution_count": 182,
   "metadata": {},
   "outputs": [],
   "source": [
    "assocs = {\n",
    "    'WA' : ['NT', 'SA'],\n",
    "    'NT' : ['WA', 'SA', 'Q'],\n",
    "    'SA' : ['WA', 'NT', 'Q', 'NSW', 'V'],\n",
    "    'Q'  : ['NT', 'SA', 'NSW'],\n",
    "    'NSW': ['Q' , 'SA', 'V'],\n",
    "    'V'  : ['SA', 'NSW'],\n",
    "    'T'  : [],\n",
    "}"
   ]
  },
  {
   "cell_type": "code",
   "execution_count": 175,
   "metadata": {},
   "outputs": [],
   "source": [
    "all_colors = {'R', 'G', 'B'}"
   ]
  },
  {
   "cell_type": "code",
   "execution_count": 176,
   "metadata": {},
   "outputs": [],
   "source": [
    "def get_valid_assignments(target_var, color_assignments, assocs):\n",
    "    impossible_colors = set()\n",
    "    for child_var in assocs.get(target_var, []):\n",
    "        color_of_child = color_assignments.get(child_var)\n",
    "        impossible_colors.add(color_of_child)\n",
    "\n",
    "    return all_colors - impossible_colors"
   ]
  },
  {
   "cell_type": "code",
   "execution_count": 177,
   "metadata": {},
   "outputs": [],
   "source": [
    "def is_valid_end_assignment(assocs, color_assignments):\n",
    "    for node, children in assocs.items():\n",
    "        if node not in color_assignments and len(children) == 0:\n",
    "            return False\n",
    "\n",
    "        color_of_node = color_assignments.get(node)\n",
    "        for child in children:\n",
    "            color_of_child = color_assignments.get(child)\n",
    "            if color_of_node is None or color_of_node == color_of_child:\n",
    "                return False\n",
    "\n",
    "    return True"
   ]
  },
  {
   "cell_type": "code",
   "execution_count": 178,
   "metadata": {},
   "outputs": [],
   "source": [
    "assert is_valid_end_assignment(assocs, dict()) == False, \\\n",
    "    'empty assignmenet should be invalid'\n",
    "\n",
    "assert not is_valid_end_assignment(assocs, {'WA': 'R', 'NA': 'R', 'SA': 'R', 'Q': 'R', 'NSW': 'R'})\n",
    "\n",
    "assert not is_valid_end_assignment(assocs, {'WA': 'R', 'NT': 'G', 'SA': 'B', 'Q': 'R', 'NSW': 'G', 'V': 'R'})"
   ]
  },
  {
   "cell_type": "code",
   "execution_count": 179,
   "metadata": {},
   "outputs": [],
   "source": [
    "def find_color_assignment(assocs):\n",
    "    color_assignments = dict()\n",
    "\n",
    "    def dfs():\n",
    "        if is_valid_end_assignment(assocs, color_assignments):\n",
    "            return color_assignments\n",
    "\n",
    "        for target_var in variables:\n",
    "            if target_var in color_assignments:\n",
    "                continue\n",
    "\n",
    "            valid_assignments = get_valid_assignments(target_var, color_assignments, assocs)\n",
    "            if len(valid_assignments) == 0:\n",
    "                return None\n",
    "\n",
    "            for color in valid_assignments:\n",
    "                color_assignments[target_var] = color\n",
    "                assignment = dfs()\n",
    "                if assignment is not None:\n",
    "                    return assignment\n",
    "\n",
    "    return dfs()"
   ]
  },
  {
   "cell_type": "code",
   "execution_count": 181,
   "metadata": {},
   "outputs": [
    {
     "data": {
      "text/plain": [
       "{'WA': 'R', 'NT': 'G', 'SA': 'B', 'Q': 'R', 'NSW': 'G', 'V': 'R', 'T': 'R'}"
      ]
     },
     "execution_count": 181,
     "metadata": {},
     "output_type": "execute_result"
    }
   ],
   "source": [
    "assigment = find_color_assignment(assocs)\n",
    "assigment"
   ]
  },
  {
   "cell_type": "code",
   "execution_count": null,
   "metadata": {},
   "outputs": [],
   "source": []
  },
  {
   "cell_type": "code",
   "execution_count": null,
   "metadata": {},
   "outputs": [],
   "source": []
  },
  {
   "cell_type": "code",
   "execution_count": null,
   "metadata": {},
   "outputs": [],
   "source": []
  },
  {
   "cell_type": "code",
   "execution_count": null,
   "metadata": {},
   "outputs": [],
   "source": []
  },
  {
   "cell_type": "code",
   "execution_count": null,
   "metadata": {},
   "outputs": [],
   "source": []
  },
  {
   "cell_type": "code",
   "execution_count": null,
   "metadata": {},
   "outputs": [],
   "source": []
  },
  {
   "cell_type": "code",
   "execution_count": null,
   "metadata": {},
   "outputs": [],
   "source": []
  },
  {
   "cell_type": "code",
   "execution_count": null,
   "metadata": {},
   "outputs": [],
   "source": []
  },
  {
   "cell_type": "code",
   "execution_count": null,
   "metadata": {},
   "outputs": [],
   "source": []
  },
  {
   "cell_type": "code",
   "execution_count": null,
   "metadata": {},
   "outputs": [],
   "source": []
  },
  {
   "cell_type": "code",
   "execution_count": null,
   "metadata": {},
   "outputs": [],
   "source": []
  },
  {
   "cell_type": "code",
   "execution_count": null,
   "metadata": {},
   "outputs": [],
   "source": []
  },
  {
   "cell_type": "code",
   "execution_count": null,
   "metadata": {},
   "outputs": [],
   "source": []
  },
  {
   "cell_type": "code",
   "execution_count": null,
   "metadata": {},
   "outputs": [],
   "source": []
  },
  {
   "cell_type": "code",
   "execution_count": null,
   "metadata": {},
   "outputs": [],
   "source": []
  },
  {
   "cell_type": "code",
   "execution_count": 17,
   "metadata": {},
   "outputs": [],
   "source": [
    "# import resource, sys\n",
    "# resource.setrlimit(resource.RLIMIT_STACK, (2**29,-1))\n",
    "# sys.setrecursionlimit(10**6)"
   ]
  },
  {
   "cell_type": "code",
   "execution_count": 7,
   "metadata": {},
   "outputs": [],
   "source": [
    "empty_sudoku_str = \"\"\"\n",
    "    0 0 0 0 0 0 0 0 0\n",
    "    0 0 0 0 0 0 0 0 0\n",
    "    0 0 0 0 0 0 0 0 0\n",
    "    0 0 0 0 0 0 0 0 0\n",
    "    0 0 0 0 0 0 0 0 0\n",
    "    0 0 0 0 0 0 0 0 0\n",
    "    0 0 0 0 0 0 0 0 0\n",
    "    0 0 0 0 0 0 0 0 0\n",
    "    0 0 0 0 0 0 0 0 0\n",
    "\"\"\"\n",
    "\n",
    "empty_sudoku = empty_sudoku_str.split('\\n')\n",
    "empty_sudoku = [row.strip().split(' ') for row in empty_sudoku if row != '']\n",
    "empty_sudoku = [[int(el) for el in r] for r in empty_sudoku]"
   ]
  },
  {
   "cell_type": "code",
   "execution_count": 18,
   "metadata": {},
   "outputs": [
    {
     "data": {
      "text/plain": [
       "[[8, 3, 0, 0, 7, 0, 0, 0, 0],\n",
       " [6, 0, 0, 1, 9, 5, 0, 0, 0],\n",
       " [0, 9, 8, 0, 0, 0, 0, 6, 0],\n",
       " [8, 0, 0, 0, 6, 0, 0, 0, 3],\n",
       " [4, 0, 0, 8, 0, 3, 0, 0, 1],\n",
       " [7, 0, 0, 0, 2, 0, 0, 0, 6],\n",
       " [0, 6, 0, 0, 0, 0, 2, 8, 0],\n",
       " [0, 0, 0, 4, 1, 9, 0, 0, 5],\n",
       " [0, 0, 0, 0, 8, 0, 0, 7, 9]]"
      ]
     },
     "execution_count": 18,
     "metadata": {},
     "output_type": "execute_result"
    }
   ],
   "source": [
    "some_sudoku = \\\n",
    "    [[\"8\",\"3\",\".\",\".\",\"7\",\".\",\".\",\".\",\".\"]\n",
    "    ,[\"6\",\".\",\".\",\"1\",\"9\",\"5\",\".\",\".\",\".\"]\n",
    "    ,[\".\",\"9\",\"8\",\".\",\".\",\".\",\".\",\"6\",\".\"]\n",
    "    ,[\"8\",\".\",\".\",\".\",\"6\",\".\",\".\",\".\",\"3\"]\n",
    "    ,[\"4\",\".\",\".\",\"8\",\".\",\"3\",\".\",\".\",\"1\"]\n",
    "    ,[\"7\",\".\",\".\",\".\",\"2\",\".\",\".\",\".\",\"6\"]\n",
    "    ,[\".\",\"6\",\".\",\".\",\".\",\".\",\"2\",\"8\",\".\"]\n",
    "    ,[\".\",\".\",\".\",\"4\",\"1\",\"9\",\".\",\".\",\"5\"]\n",
    "    ,[\".\",\".\",\".\",\".\",\"8\",\".\",\".\",\"7\",\"9\"]]\n",
    "\n",
    "some_sudoku = [[0 if el == '.' else int(el) for el in row] for row in some_sudoku]\n",
    "some_sudoku"
   ]
  },
  {
   "cell_type": "code",
   "execution_count": 9,
   "metadata": {},
   "outputs": [],
   "source": [
    "def is_valid_sudoku(sudoku):\n",
    "    all_nums = set(range(1, 10))\n",
    "    for y in range(9):\n",
    "        if set(sudoku[y]) != all_nums:\n",
    "            return False\n",
    "    for x in range(9):\n",
    "        if set(row[x] for row in sudoku) != all_nums:\n",
    "            return False\n",
    "    for y in range(9):\n",
    "        for x in range(9):\n",
    "            if set(\n",
    "                el\n",
    "                for row in sudoku[y // 3: y // 3 + 3]\n",
    "                for el in row[x // 3:x // 3 + 3]\n",
    "            ) != all_nums:\n",
    "                return False\n",
    "            \n",
    "    return True\n",
    "\n",
    "def has_empty(sudoku):\n",
    "    return 0 in set(el for row in sudoku for el in row)"
   ]
  },
  {
   "cell_type": "code",
   "execution_count": 10,
   "metadata": {},
   "outputs": [],
   "source": [
    "def get_possible_at_position(sudoku, pos):\n",
    "    x, y = pos\n",
    "    impossible_row = set(sudoku[y])\n",
    "    impossible_col = set(row[x] for row in sudoku)\n",
    "    impossible_sqr = set(\n",
    "        el\n",
    "        for row in sudoku[y // 3: y // 3 + 3]\n",
    "        for el in row[x // 3:x // 3 + 3]\n",
    "    )\n",
    "    impossible = impossible_row.union(impossible_col).union(impossible_sqr)\n",
    "\n",
    "    return set(range(1, 10)) - impossible"
   ]
  },
  {
   "cell_type": "code",
   "execution_count": 11,
   "metadata": {},
   "outputs": [],
   "source": [
    "from IPython.display import display"
   ]
  },
  {
   "cell_type": "code",
   "execution_count": 14,
   "metadata": {},
   "outputs": [],
   "source": [
    "def solve(sudoku):\n",
    "    sudoku = [row[::] for row in sudoku]\n",
    "\n",
    "    if is_valid_sudoku(sudoku):\n",
    "        return True, sudoku\n",
    "    elif not has_empty(sudoku):\n",
    "        print('dead end')\n",
    "        return False, sudoku\n",
    "\n",
    "    possible = {}\n",
    "    for y in range(9):\n",
    "        for x in range(9):\n",
    "            if sudoku[y][x] == 0:\n",
    "                possible_at_pos = get_possible_at_position(sudoku, (x, y))\n",
    "                if len(possible_at_pos) == 0:\n",
    "                    from ipdb import set_trace\n",
    "                    set_trace()\n",
    "                    return False, sudoku\n",
    "                possible[(x, y)] = possible_at_pos\n",
    "\n",
    "    possible = list(possible.items())\n",
    "    possible = sorted(possible, key=lambda x: len(x[1]))\n",
    "\n",
    "    \n",
    "    for (x, y), elements in possible:\n",
    "#         if len(elements) > 1:\n",
    "#             from ipdb import set_trace\n",
    "#             set_trace()\n",
    "    \n",
    "        for element in elements:\n",
    "            sudoku[y][x] = element\n",
    "            valid, solved_sudoku = solve(sudoku)\n",
    "            if valid:\n",
    "                return valid, solved_sudoku\n",
    "            else:\n",
    "                sudoku[y][x] = 0\n",
    "\n",
    "    return False, sudoku"
   ]
  },
  {
   "cell_type": "code",
   "execution_count": 16,
   "metadata": {},
   "outputs": [],
   "source": [
    "# solve(some_sudoku)"
   ]
  },
  {
   "cell_type": "code",
   "execution_count": 49,
   "metadata": {},
   "outputs": [
    {
     "data": {
      "text/plain": [
       "[[0, 0, 0, 0, 0, 0, 0, 0, 0],\n",
       " [0, 0, 0, 0, 0, 0, 0, 0, 0],\n",
       " [0, 0, 0, 0, 0, 0, 0, 0, 0],\n",
       " [0, 0, 0, 0, 0, 0, 0, 0, 0],\n",
       " [0, 0, 0, 0, 0, 0, 0, 0, 0],\n",
       " [0, 0, 0, 0, 0, 0, 0, 0, 0],\n",
       " [0, 0, 0, 0, 0, 0, 0, 0, 0],\n",
       " [0, 0, 0, 0, 0, 0, 0, 0, 0],\n",
       " [0, 0, 0, 0, 0, 0, 0, 0, 0]]"
      ]
     },
     "execution_count": 49,
     "metadata": {},
     "output_type": "execute_result"
    }
   ],
   "source": [
    "empty_sudoku"
   ]
  },
  {
   "cell_type": "code",
   "execution_count": null,
   "metadata": {},
   "outputs": [],
   "source": []
  },
  {
   "cell_type": "code",
   "execution_count": null,
   "metadata": {},
   "outputs": [],
   "source": []
  }
 ],
 "metadata": {
  "kernelspec": {
   "display_name": "'Python Interactive'",
   "language": "python",
   "name": "91ecb93a-e0f8-4faf-af8a-2527acfdd39f"
  },
  "language_info": {
   "codemirror_mode": {
    "name": "ipython",
    "version": 3
   },
   "file_extension": ".py",
   "mimetype": "text/x-python",
   "name": "python",
   "nbconvert_exporter": "python",
   "pygments_lexer": "ipython3",
   "version": "3.7.5"
  },
  "toc": {
   "base_numbering": 1,
   "nav_menu": {},
   "number_sections": true,
   "sideBar": true,
   "skip_h1_title": false,
   "title_cell": "Table of Contents",
   "title_sidebar": "Contents",
   "toc_cell": false,
   "toc_position": {},
   "toc_section_display": true,
   "toc_window_display": false
  }
 },
 "nbformat": 4,
 "nbformat_minor": 2
}
