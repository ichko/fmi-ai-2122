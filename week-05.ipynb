{
 "cells": [
  {
   "cell_type": "markdown",
   "metadata": {},
   "source": [
    "# Week 5 - Genetic Algorithms\n",
    "---"
   ]
  },
  {
   "cell_type": "markdown",
   "metadata": {},
   "source": [
    "## Classic toy example - evolving a string"
   ]
  },
  {
   "cell_type": "code",
   "execution_count": 29,
   "metadata": {},
   "outputs": [],
   "source": [
    "import random\n",
    "\n",
    "alphabet = \"abcdefghijklmnopqrstuvwxyz \"\n",
    "\n",
    "def random_dna(target_length):\n",
    "    return ''.join(random.choices(alphabet, k=target_length))"
   ]
  },
  {
   "cell_type": "code",
   "execution_count": 30,
   "metadata": {},
   "outputs": [
    {
     "data": {
      "text/plain": [
       "'tmgatf  rt'"
      ]
     },
     "execution_count": 30,
     "metadata": {},
     "output_type": "execute_result"
    }
   ],
   "source": [
    "random_dna(target_length=10)"
   ]
  },
  {
   "cell_type": "code",
   "execution_count": 31,
   "metadata": {},
   "outputs": [],
   "source": [
    "def initial_population(population_size, target_length):\n",
    "    population = []\n",
    "    for i in range(population_size):\n",
    "        dna = random_dna(target_length=target_length)\n",
    "        population.append(dna)\n",
    "        \n",
    "    return population"
   ]
  },
  {
   "cell_type": "code",
   "execution_count": 32,
   "metadata": {},
   "outputs": [
    {
     "data": {
      "text/plain": [
       "['hdvihmjocq', 'mzwgdvippm', 'vz dsrdhl ', 'shqyejdewj', 'nrrtebk xx']"
      ]
     },
     "execution_count": 32,
     "metadata": {},
     "output_type": "execute_result"
    }
   ],
   "source": [
    "example_population = initial_population(population_size=5, target_length=10)\n",
    "example_population"
   ]
  },
  {
   "cell_type": "code",
   "execution_count": 33,
   "metadata": {},
   "outputs": [],
   "source": [
    "def fitness(dna, target):\n",
    "    return sum(a == b for a, b in zip(dna, target))"
   ]
  },
  {
   "cell_type": "code",
   "execution_count": 34,
   "metadata": {},
   "outputs": [
    {
     "data": {
      "text/plain": [
       "0"
      ]
     },
     "execution_count": 34,
     "metadata": {},
     "output_type": "execute_result"
    }
   ],
   "source": [
    "target = 'the quick brown fox'\n",
    "dna = random_dna(target_length=len(target))\n",
    "fitness(dna, target=target)"
   ]
  },
  {
   "cell_type": "code",
   "execution_count": 44,
   "metadata": {},
   "outputs": [],
   "source": [
    "def select_parents(population, individual_fitness, selection_size, target):\n",
    "    parents = []\n",
    "    left_parents = random.choices(population, weights=individual_fitness, k=selection_size)\n",
    "    right_parents = random.choices(population, weights=individual_fitness, k=selection_size)\n",
    "    return list(zip(left_parents, right_parents)), individual_fitness"
   ]
  },
  {
   "cell_type": "code",
   "execution_count": 46,
   "metadata": {},
   "outputs": [
    {
     "data": {
      "text/plain": [
       "[('vz dsrdhl ', 'mzwgdvippm'),\n",
       " ('mzwgdvippm', 'vz dsrdhl '),\n",
       " ('shqyejdewj', 'mzwgdvippm'),\n",
       " ('shqyejdewj', 'shqyejdewj'),\n",
       " ('vz dsrdhl ', 'mzwgdvippm')]"
      ]
     },
     "execution_count": 46,
     "metadata": {},
     "output_type": "execute_result"
    }
   ],
   "source": [
    "individual_fitness = [fitness(dna, target) for dna in example_population]\n",
    "example_parents, _ = select_parents(example_population, individual_fitness, selection_size=5, target=target)\n",
    "example_parents"
   ]
  },
  {
   "cell_type": "code",
   "execution_count": 47,
   "metadata": {},
   "outputs": [],
   "source": [
    "def crossover(left_parent, right_parent):\n",
    "    p = random.randint(0, len(left_parent))\n",
    "    return left_parent[:p] + right_parent[p:], right_parent[:p] + left_parent[p:]"
   ]
  },
  {
   "cell_type": "code",
   "execution_count": 48,
   "metadata": {},
   "outputs": [
    {
     "data": {
      "text/plain": [
       "('vz dsrdppm', 'mzwgdvihl ')"
      ]
     },
     "execution_count": 48,
     "metadata": {},
     "output_type": "execute_result"
    }
   ],
   "source": [
    "crossover(*example_parents[0])"
   ]
  },
  {
   "cell_type": "code",
   "execution_count": 49,
   "metadata": {},
   "outputs": [],
   "source": [
    "def rand():\n",
    "    return random.random()"
   ]
  },
  {
   "cell_type": "code",
   "execution_count": 50,
   "metadata": {},
   "outputs": [],
   "source": [
    "def mutate(dna, mutation_probability=0.5):\n",
    "    other_dna = random_dna(target_length=len(dna))\n",
    "    return ''.join(a if rand() > mutation_probability else b for a, b in zip(dna, other_dna))"
   ]
  },
  {
   "cell_type": "code",
   "execution_count": 51,
   "metadata": {},
   "outputs": [
    {
     "data": {
      "text/plain": [
       "'hdvihmjocq'"
      ]
     },
     "execution_count": 51,
     "metadata": {},
     "output_type": "execute_result"
    }
   ],
   "source": [
    "mutate(example_population[0], mutation_probability=0.1)"
   ]
  },
  {
   "cell_type": "code",
   "execution_count": 52,
   "metadata": {},
   "outputs": [],
   "source": [
    "from IPython.display import clear_output, display\n",
    "from ipywidgets import Output\n",
    "from tqdm.auto import tqdm\n",
    "import time\n",
    "\n",
    "out = Output()"
   ]
  },
  {
   "cell_type": "code",
   "execution_count": 68,
   "metadata": {},
   "outputs": [
    {
     "data": {
      "application/vnd.jupyter.widget-view+json": {
       "model_id": "df40260d50ec48cf9f3d9790268e7204",
       "version_major": 2,
       "version_minor": 0
      },
      "text/plain": [
       "Output(msg_id='a509cb1ceaf5450681d9d78f3ea701d8', outputs=({'output_type': 'display_data', 'data': {'text/plai…"
      ]
     },
     "metadata": {},
     "output_type": "display_data"
    },
    {
     "data": {
      "application/vnd.jupyter.widget-view+json": {
       "model_id": "5ffbf5f3e2e146e5a226580198097f43",
       "version_major": 2,
       "version_minor": 0
      },
      "text/plain": [
       "HBox(children=(FloatProgress(value=0.0, max=10000.0), HTML(value='')))"
      ]
     },
     "metadata": {},
     "output_type": "display_data"
    }
   ],
   "source": [
    "target = 'the quick brown fox jums over the lazy dog'\n",
    "population = initial_population(population_size=20, target_length=len(target))\n",
    "num_generations = 10000\n",
    "\n",
    "display(out)\n",
    "\n",
    "for i in tqdm(range(num_generations)):\n",
    "    individual_fitness = [fitness(dna, target) for dna in population]\n",
    "    parents, fitness_scores = select_parents(\n",
    "        population,\n",
    "        individual_fitness,\n",
    "        selection_size=len(population) // 2,\n",
    "        target=target,\n",
    "    )\n",
    "\n",
    "    new_population = [p[0] for p in sorted(zip(population, individual_fitness), key=lambda x: x[1])]\n",
    "    new_population = new_population[-len(new_population) // 2:]\n",
    "    for parent_a, parent_b in parents:\n",
    "        child_a, child_b = crossover(parent_a, parent_b)\n",
    "        new_population.append(mutate(child_a, mutation_probability=0.1))\n",
    "    \n",
    "    population = new_population\n",
    "    population_scores = [fitness(p, target) for p in population]\n",
    "    \n",
    "    population_display = sorted(list(zip(population, population_scores)), key=lambda x: x[1])[-10:]\n",
    "\n",
    "    with out:\n",
    "        time.sleep(0.001)\n",
    "        clear_output(wait=True)\n",
    "        display(population_display)\n",
    "\n",
    "    if target in population:\n",
    "        break"
   ]
  },
  {
   "cell_type": "code",
   "execution_count": null,
   "metadata": {},
   "outputs": [],
   "source": []
  },
  {
   "cell_type": "code",
   "execution_count": null,
   "metadata": {},
   "outputs": [],
   "source": []
  },
  {
   "cell_type": "code",
   "execution_count": null,
   "metadata": {},
   "outputs": [],
   "source": []
  }
 ],
 "metadata": {
  "kernelspec": {
   "display_name": "'Python Interactive'",
   "language": "python",
   "name": "91ecb93a-e0f8-4faf-af8a-2527acfdd39f"
  },
  "language_info": {
   "codemirror_mode": {
    "name": "ipython",
    "version": 3
   },
   "file_extension": ".py",
   "mimetype": "text/x-python",
   "name": "python",
   "nbconvert_exporter": "python",
   "pygments_lexer": "ipython3",
   "version": "3.7.5"
  },
  "toc": {
   "base_numbering": 1,
   "nav_menu": {},
   "number_sections": true,
   "sideBar": true,
   "skip_h1_title": false,
   "title_cell": "Table of Contents",
   "title_sidebar": "Contents",
   "toc_cell": false,
   "toc_position": {},
   "toc_section_display": true,
   "toc_window_display": false
  }
 },
 "nbformat": 4,
 "nbformat_minor": 2
}
